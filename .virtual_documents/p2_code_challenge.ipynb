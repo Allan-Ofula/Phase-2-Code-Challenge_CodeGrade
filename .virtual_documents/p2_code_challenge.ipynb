


# Run this cell without changes to import the necessary libraries

import itertools
import numpy as np
import pandas as pd 
from numbers import Number
import sqlite3
from scipy import stats
import matplotlib.pyplot as plt
import seaborn as sns
import warnings
warnings.filterwarnings('ignore')

import pickle








# CodeGrade step1.1
# Replace None with appropriate code
# Connect to the Database here ("Chinook_Sqlite.sqlite")

path = "Chinook_Sqlite.sqlite"
conn = sqlite3.connect(path)


assert type(path) == str


# Run this cell without changes to see all the
# tables in the database.

df = pd.read_sql(
    """
    SELECT *
    FROM sqlite_master
    """
, conn
)

df[df['type'] == 'table']





# CodeGrade step1.2
# Replace None with appropriate code
# Hint: Use the Artist table!

# Ordering artists by name in descending order and limiting the results to 10
first_query = """
    SELECT Name 
    FROM Artist
    ORDER BY Name DESC
    LIMIT 10
"""

pd.read_sql(first_query, conn)


# first_query should be a string
assert type(first_query) == str

# first_query should be a SQL query
first_query_df = pd.read_sql(first_query, conn)





# CodeGrade step1.3
# Replace None with appropriate code
# Hint: Use the Artist and Album tables!

# Joining the Artist and Album tables to filter by artist name
second_query = """
    SELECT Album.Title 
    FROM Album
    JOIN Artist ON Album.ArtistId = Artist.ArtistId
    WHERE Artist.Name = 'Led Zeppelin'
"""

pd.read_sql(second_query, conn)


# second_query should be a string
assert type(second_query) == str

# second_query should be a SQL query
second_query_df = pd.read_sql(second_query, conn)





# CodeGrade step1.4
# Replace None with appropriate code

# Counting albums per artist and selecting the one with the most
third_query = """
    SELECT Artist.Name, COUNT(Album.AlbumId) AS AlbumCount
    FROM Album
    JOIN Artist ON Album.ArtistId = Artist.ArtistId
    GROUP BY Artist.Name
    ORDER BY AlbumCount DESC
    LIMIT 1
"""

pd.read_sql(third_query, conn)


# third_query should be a string
assert type(third_query) == str

# third_query should be a SQL query
third_query_df = pd.read_sql(third_query, conn)








# CodeGrade step2.1
# Replace None with appropriate code
    
false_pos_rate = 0.1
false_neg_rate = 0.02
population_rate = 0.01

# Probability of receiving a positive test result
p_pos_test = (population_rate * (1 - false_neg_rate)) + ((1 - population_rate) * false_pos_rate)
p_pos_test


# This test confirms that you have created a numeric variable named p_pos_test

assert isinstance(p_pos_test, Number)


# These tests confirm that p_pos_test is a value between 0 and 1

assert p_pos_test >= 0
assert p_pos_test <= 1





# CodeGrade step2.2
# Replace None with appropriate code
    
false_pos_rate = 0.1
false_neg_rate = 0.02
population_rate = 0.01

# Probability of having the disease given a positive test result
p_disease_given_pos = (population_rate * (1 - false_neg_rate)) / p_pos_test
p_disease_given_pos


# This test confirms that you have created a numeric variable named p_disease_given_pos

assert isinstance(p_disease_given_pos, Number)


# These tests confirm that p_disease_given_pos is a value between 0 and 1

assert p_disease_given_pos >= 0
assert p_disease_given_pos <= 1








# CodeGrade step3.1
# Replace None with appropriate code

mean_check = 20  
std_dev_check = 3  

z_score_26 = (26 - mean_check) / std_dev_check
z_score_26


# This test confirms that you have created a numeric variable named z_score_26

assert isinstance(z_score_26, Number)





# CodeGrade step3.2
# Replace None with appropriate code

# Computing the probability of a check being < $26
p_under_26 = stats.norm.cdf(z_score_26)
p_under_26 


# This test confirms that you have created a numeric variable named p_under_26

assert isinstance(p_under_26, Number)

# These tests confirm that p_under_26 is a value between 0 and 1

assert p_under_26 >= 0
assert p_under_26 <= 1





# CodeGrade step3.3
# Replace None with appropriate code

n = 100
mean = 19
std = 3

# computing Standard error of the mean
se = std/ np.sqrt(n)

# Critical z-value for 95% confidence interval
z_critical = stats.norm.ppf(0.975)

# Computing confidence intervals
conf_low = mean - (z_critical * se)
conf_high = mean + (z_critical * se)

print(f"conf_low:", conf_low)
print(f"conf_high:", conf_high)


# These tests confirm that you have created numeric variables named conf_low and conf_high

assert isinstance(conf_low, Number)
assert isinstance(conf_high, Number)

# This test confirms that conf_low is below conf_high

assert conf_low < conf_high

# These statements print your answers for reference to help answer the next question

print('The lower bound of the 95% confidence interval is {}'.format(conf_low))
print('The upper bound of the 95% confidence interval is {}'.format(conf_high))











# Run this cell without changes

# Load the sample data 
no_queso = pickle.load(open('./no_queso.pkl', 'rb'))
queso = pickle.load(open('./queso.pkl', 'rb'))

no_queso_df = pd.DataFrame(no_queso, columns=["Check_Total_No_Queso"])
queso_df = pd.DataFrame(queso, columns=["Check_Total_Queso"])

print(no_queso_df.head())  
print(queso_df.head())  

















# CodeGrade step4.3
# Replace None with appropriate code

# Performing an independent two-sample t-test
p_value = stats.ttest_ind(no_queso, queso, equal_var=True).pvalue
print(p_value)


# This test confirms that you have created a numeric variable named p_value

assert isinstance(p_value, Number)






